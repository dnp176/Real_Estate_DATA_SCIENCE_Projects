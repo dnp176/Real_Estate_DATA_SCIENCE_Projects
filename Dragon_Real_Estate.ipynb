{
  "nbformat": 4,
  "nbformat_minor": 0,
  "metadata": {
    "colab": {
      "provenance": [],
      "authorship_tag": "ABX9TyO3Gy2hrvWh5Gsx2sXxY1q9",
      "include_colab_link": true
    },
    "kernelspec": {
      "name": "python3",
      "display_name": "Python 3"
    },
    "language_info": {
      "name": "python"
    }
  },
  "cells": [
    {
      "cell_type": "markdown",
      "metadata": {
        "id": "view-in-github",
        "colab_type": "text"
      },
      "source": [
        "<a href=\"https://colab.research.google.com/github/dnp176/Real_Estate_DATA_SCIENCE_Projects/blob/main/Dragon_Real_Estate.ipynb\" target=\"_parent\"><img src=\"https://colab.research.google.com/assets/colab-badge.svg\" alt=\"Open In Colab\"/></a>"
      ]
    },
    {
      "cell_type": "code",
      "source": [
        "from google.colab import drive\n"
      ],
      "metadata": {
        "id": "4AGjYcA5wkcj"
      },
      "execution_count": 135,
      "outputs": []
    },
    {
      "cell_type": "code",
      "execution_count": 136,
      "metadata": {
        "id": "U2UbxjgHRK5T"
      },
      "outputs": [],
      "source": [
        "import pandas as pd"
      ]
    },
    {
      "cell_type": "code",
      "source": [
        "housing = pd.read_csv(\"/content/housing_data.csv\")"
      ],
      "metadata": {
        "id": "gdyPVfzZniFY"
      },
      "execution_count": 137,
      "outputs": []
    },
    {
      "cell_type": "code",
      "source": [
        "housing.head()"
      ],
      "metadata": {
        "colab": {
          "base_uri": "https://localhost:8080/",
          "height": 206
        },
        "id": "VtePFKU8nrI5",
        "outputId": "212eb031-97e7-4885-cef6-1d5ee628b777"
      },
      "execution_count": 138,
      "outputs": [
        {
          "output_type": "execute_result",
          "data": {
            "text/plain": [
              "      CRIM    ZN  INDUS  CHAS    NOX     RM   AGE     DIS  RAD  TAX  PTRATIO  \\\n",
              "0  0.00632  18.0   2.31     0  0.538  6.575  65.2  4.0900    1  296     15.3   \n",
              "1  0.02731   0.0   7.07     0  0.469  6.421  78.9  4.9671    2  242     17.8   \n",
              "2  0.02729   0.0   7.07     0  0.469  7.185  61.1  4.9671    2  242     17.8   \n",
              "3  0.03237   0.0   2.18     0  0.458  6.998  45.8  6.0622    3  222     18.7   \n",
              "4  0.06905   0.0   2.18     0  0.458  7.147  54.2  6.0622    3  222     18.7   \n",
              "\n",
              "        B  LSTAT  MEDV  \n",
              "0  396.90   4.98  24.0  \n",
              "1  396.90   9.14  21.6  \n",
              "2  392.83   4.03  34.7  \n",
              "3  394.63   2.94  33.4  \n",
              "4  396.90   5.33  36.2  "
            ],
            "text/html": [
              "\n",
              "  <div id=\"df-7c29a2f1-d98f-4e5c-ad0d-c49841cf165a\">\n",
              "    <div class=\"colab-df-container\">\n",
              "      <div>\n",
              "<style scoped>\n",
              "    .dataframe tbody tr th:only-of-type {\n",
              "        vertical-align: middle;\n",
              "    }\n",
              "\n",
              "    .dataframe tbody tr th {\n",
              "        vertical-align: top;\n",
              "    }\n",
              "\n",
              "    .dataframe thead th {\n",
              "        text-align: right;\n",
              "    }\n",
              "</style>\n",
              "<table border=\"1\" class=\"dataframe\">\n",
              "  <thead>\n",
              "    <tr style=\"text-align: right;\">\n",
              "      <th></th>\n",
              "      <th>CRIM</th>\n",
              "      <th>ZN</th>\n",
              "      <th>INDUS</th>\n",
              "      <th>CHAS</th>\n",
              "      <th>NOX</th>\n",
              "      <th>RM</th>\n",
              "      <th>AGE</th>\n",
              "      <th>DIS</th>\n",
              "      <th>RAD</th>\n",
              "      <th>TAX</th>\n",
              "      <th>PTRATIO</th>\n",
              "      <th>B</th>\n",
              "      <th>LSTAT</th>\n",
              "      <th>MEDV</th>\n",
              "    </tr>\n",
              "  </thead>\n",
              "  <tbody>\n",
              "    <tr>\n",
              "      <th>0</th>\n",
              "      <td>0.00632</td>\n",
              "      <td>18.0</td>\n",
              "      <td>2.31</td>\n",
              "      <td>0</td>\n",
              "      <td>0.538</td>\n",
              "      <td>6.575</td>\n",
              "      <td>65.2</td>\n",
              "      <td>4.0900</td>\n",
              "      <td>1</td>\n",
              "      <td>296</td>\n",
              "      <td>15.3</td>\n",
              "      <td>396.90</td>\n",
              "      <td>4.98</td>\n",
              "      <td>24.0</td>\n",
              "    </tr>\n",
              "    <tr>\n",
              "      <th>1</th>\n",
              "      <td>0.02731</td>\n",
              "      <td>0.0</td>\n",
              "      <td>7.07</td>\n",
              "      <td>0</td>\n",
              "      <td>0.469</td>\n",
              "      <td>6.421</td>\n",
              "      <td>78.9</td>\n",
              "      <td>4.9671</td>\n",
              "      <td>2</td>\n",
              "      <td>242</td>\n",
              "      <td>17.8</td>\n",
              "      <td>396.90</td>\n",
              "      <td>9.14</td>\n",
              "      <td>21.6</td>\n",
              "    </tr>\n",
              "    <tr>\n",
              "      <th>2</th>\n",
              "      <td>0.02729</td>\n",
              "      <td>0.0</td>\n",
              "      <td>7.07</td>\n",
              "      <td>0</td>\n",
              "      <td>0.469</td>\n",
              "      <td>7.185</td>\n",
              "      <td>61.1</td>\n",
              "      <td>4.9671</td>\n",
              "      <td>2</td>\n",
              "      <td>242</td>\n",
              "      <td>17.8</td>\n",
              "      <td>392.83</td>\n",
              "      <td>4.03</td>\n",
              "      <td>34.7</td>\n",
              "    </tr>\n",
              "    <tr>\n",
              "      <th>3</th>\n",
              "      <td>0.03237</td>\n",
              "      <td>0.0</td>\n",
              "      <td>2.18</td>\n",
              "      <td>0</td>\n",
              "      <td>0.458</td>\n",
              "      <td>6.998</td>\n",
              "      <td>45.8</td>\n",
              "      <td>6.0622</td>\n",
              "      <td>3</td>\n",
              "      <td>222</td>\n",
              "      <td>18.7</td>\n",
              "      <td>394.63</td>\n",
              "      <td>2.94</td>\n",
              "      <td>33.4</td>\n",
              "    </tr>\n",
              "    <tr>\n",
              "      <th>4</th>\n",
              "      <td>0.06905</td>\n",
              "      <td>0.0</td>\n",
              "      <td>2.18</td>\n",
              "      <td>0</td>\n",
              "      <td>0.458</td>\n",
              "      <td>7.147</td>\n",
              "      <td>54.2</td>\n",
              "      <td>6.0622</td>\n",
              "      <td>3</td>\n",
              "      <td>222</td>\n",
              "      <td>18.7</td>\n",
              "      <td>396.90</td>\n",
              "      <td>5.33</td>\n",
              "      <td>36.2</td>\n",
              "    </tr>\n",
              "  </tbody>\n",
              "</table>\n",
              "</div>\n",
              "      <button class=\"colab-df-convert\" onclick=\"convertToInteractive('df-7c29a2f1-d98f-4e5c-ad0d-c49841cf165a')\"\n",
              "              title=\"Convert this dataframe to an interactive table.\"\n",
              "              style=\"display:none;\">\n",
              "        \n",
              "  <svg xmlns=\"http://www.w3.org/2000/svg\" height=\"24px\"viewBox=\"0 0 24 24\"\n",
              "       width=\"24px\">\n",
              "    <path d=\"M0 0h24v24H0V0z\" fill=\"none\"/>\n",
              "    <path d=\"M18.56 5.44l.94 2.06.94-2.06 2.06-.94-2.06-.94-.94-2.06-.94 2.06-2.06.94zm-11 1L8.5 8.5l.94-2.06 2.06-.94-2.06-.94L8.5 2.5l-.94 2.06-2.06.94zm10 10l.94 2.06.94-2.06 2.06-.94-2.06-.94-.94-2.06-.94 2.06-2.06.94z\"/><path d=\"M17.41 7.96l-1.37-1.37c-.4-.4-.92-.59-1.43-.59-.52 0-1.04.2-1.43.59L10.3 9.45l-7.72 7.72c-.78.78-.78 2.05 0 2.83L4 21.41c.39.39.9.59 1.41.59.51 0 1.02-.2 1.41-.59l7.78-7.78 2.81-2.81c.8-.78.8-2.07 0-2.86zM5.41 20L4 18.59l7.72-7.72 1.47 1.35L5.41 20z\"/>\n",
              "  </svg>\n",
              "      </button>\n",
              "      \n",
              "  <style>\n",
              "    .colab-df-container {\n",
              "      display:flex;\n",
              "      flex-wrap:wrap;\n",
              "      gap: 12px;\n",
              "    }\n",
              "\n",
              "    .colab-df-convert {\n",
              "      background-color: #E8F0FE;\n",
              "      border: none;\n",
              "      border-radius: 50%;\n",
              "      cursor: pointer;\n",
              "      display: none;\n",
              "      fill: #1967D2;\n",
              "      height: 32px;\n",
              "      padding: 0 0 0 0;\n",
              "      width: 32px;\n",
              "    }\n",
              "\n",
              "    .colab-df-convert:hover {\n",
              "      background-color: #E2EBFA;\n",
              "      box-shadow: 0px 1px 2px rgba(60, 64, 67, 0.3), 0px 1px 3px 1px rgba(60, 64, 67, 0.15);\n",
              "      fill: #174EA6;\n",
              "    }\n",
              "\n",
              "    [theme=dark] .colab-df-convert {\n",
              "      background-color: #3B4455;\n",
              "      fill: #D2E3FC;\n",
              "    }\n",
              "\n",
              "    [theme=dark] .colab-df-convert:hover {\n",
              "      background-color: #434B5C;\n",
              "      box-shadow: 0px 1px 3px 1px rgba(0, 0, 0, 0.15);\n",
              "      filter: drop-shadow(0px 1px 2px rgba(0, 0, 0, 0.3));\n",
              "      fill: #FFFFFF;\n",
              "    }\n",
              "  </style>\n",
              "\n",
              "      <script>\n",
              "        const buttonEl =\n",
              "          document.querySelector('#df-7c29a2f1-d98f-4e5c-ad0d-c49841cf165a button.colab-df-convert');\n",
              "        buttonEl.style.display =\n",
              "          google.colab.kernel.accessAllowed ? 'block' : 'none';\n",
              "\n",
              "        async function convertToInteractive(key) {\n",
              "          const element = document.querySelector('#df-7c29a2f1-d98f-4e5c-ad0d-c49841cf165a');\n",
              "          const dataTable =\n",
              "            await google.colab.kernel.invokeFunction('convertToInteractive',\n",
              "                                                     [key], {});\n",
              "          if (!dataTable) return;\n",
              "\n",
              "          const docLinkHtml = 'Like what you see? Visit the ' +\n",
              "            '<a target=\"_blank\" href=https://colab.research.google.com/notebooks/data_table.ipynb>data table notebook</a>'\n",
              "            + ' to learn more about interactive tables.';\n",
              "          element.innerHTML = '';\n",
              "          dataTable['output_type'] = 'display_data';\n",
              "          await google.colab.output.renderOutput(dataTable, element);\n",
              "          const docLink = document.createElement('div');\n",
              "          docLink.innerHTML = docLinkHtml;\n",
              "          element.appendChild(docLink);\n",
              "        }\n",
              "      </script>\n",
              "    </div>\n",
              "  </div>\n",
              "  "
            ]
          },
          "metadata": {},
          "execution_count": 138
        }
      ]
    },
    {
      "cell_type": "code",
      "source": [
        "housing.info()"
      ],
      "metadata": {
        "colab": {
          "base_uri": "https://localhost:8080/"
        },
        "id": "g-yN0X_FoHCx",
        "outputId": "92c186e9-2932-492b-8928-e45f9d7f9680"
      },
      "execution_count": 139,
      "outputs": [
        {
          "output_type": "stream",
          "name": "stdout",
          "text": [
            "<class 'pandas.core.frame.DataFrame'>\n",
            "RangeIndex: 506 entries, 0 to 505\n",
            "Data columns (total 14 columns):\n",
            " #   Column   Non-Null Count  Dtype  \n",
            "---  ------   --------------  -----  \n",
            " 0   CRIM     506 non-null    float64\n",
            " 1   ZN       506 non-null    float64\n",
            " 2   INDUS    506 non-null    float64\n",
            " 3   CHAS     506 non-null    int64  \n",
            " 4   NOX      506 non-null    float64\n",
            " 5   RM       506 non-null    float64\n",
            " 6   AGE      506 non-null    float64\n",
            " 7   DIS      506 non-null    float64\n",
            " 8   RAD      506 non-null    int64  \n",
            " 9   TAX      506 non-null    int64  \n",
            " 10  PTRATIO  506 non-null    float64\n",
            " 11  B        506 non-null    float64\n",
            " 12  LSTAT    506 non-null    float64\n",
            " 13  MEDV     506 non-null    float64\n",
            "dtypes: float64(11), int64(3)\n",
            "memory usage: 55.5 KB\n"
          ]
        }
      ]
    },
    {
      "cell_type": "code",
      "source": [
        "import matplotlib.pyplot as plt"
      ],
      "metadata": {
        "id": "aSe83xCZqFFr"
      },
      "execution_count": 140,
      "outputs": []
    },
    {
      "cell_type": "code",
      "source": [
        "housing.hist(bins=50,figsize=(20,15))"
      ],
      "metadata": {
        "colab": {
          "base_uri": "https://localhost:8080/",
          "height": 980
        },
        "id": "GwBPGqHgqKSi",
        "outputId": "cb3fd496-668f-4894-fa82-8feada963474"
      },
      "execution_count": 141,
      "outputs": [
        {
          "output_type": "execute_result",
          "data": {
            "text/plain": [
              "array([[<AxesSubplot:title={'center':'CRIM'}>,\n",
              "        <AxesSubplot:title={'center':'ZN'}>,\n",
              "        <AxesSubplot:title={'center':'INDUS'}>,\n",
              "        <AxesSubplot:title={'center':'CHAS'}>],\n",
              "       [<AxesSubplot:title={'center':'NOX'}>,\n",
              "        <AxesSubplot:title={'center':'RM'}>,\n",
              "        <AxesSubplot:title={'center':'AGE'}>,\n",
              "        <AxesSubplot:title={'center':'DIS'}>],\n",
              "       [<AxesSubplot:title={'center':'RAD'}>,\n",
              "        <AxesSubplot:title={'center':'TAX'}>,\n",
              "        <AxesSubplot:title={'center':'PTRATIO'}>,\n",
              "        <AxesSubplot:title={'center':'B'}>],\n",
              "       [<AxesSubplot:title={'center':'LSTAT'}>,\n",
              "        <AxesSubplot:title={'center':'MEDV'}>, <AxesSubplot:>,\n",
              "        <AxesSubplot:>]], dtype=object)"
            ]
          },
          "metadata": {},
          "execution_count": 141
        },
        {
          "output_type": "display_data",
          "data": {
            "text/plain": [
              "<Figure size 1440x1080 with 16 Axes>"
            ],
            "image/png": "[encoded data removed]"
          },
          "metadata": {
            "needs_background": "light"
          }
        }
      ]
    },
    {
      "cell_type": "markdown",
      "source": [
        "### Train-Test Splitting"
      ],
      "metadata": {
        "id": "XEHzSUL_tio2"
      }
    },
    {
      "cell_type": "code",
      "source": [
        "from pandas.core.common import random_state\n",
        "from sklearn.model_selection import train_test_split\n",
        "train_set, test_set = train_test_split(housing, test_size=0.2,random_state=42)\n",
        "print(len(train_set),len(test_set))"
      ],
      "metadata": {
        "colab": {
          "base_uri": "https://localhost:8080/"
        },
        "id": "aBL_gbPEthxL",
        "outputId": "625b90ba-6481-406c-eaff-21a9d776535d"
      },
      "execution_count": 142,
      "outputs": [
        {
          "output_type": "stream",
          "name": "stdout",
          "text": [
            "404 102\n"
          ]
        }
      ]
    },
    {
      "cell_type": "code",
      "source": [
        "from sklearn.model_selection import StratifiedShuffleSplit\n",
        "split = StratifiedShuffleSplit(n_splits=1, test_size=0.2,random_state=42)\n",
        "for train_index, test_index in split.split(housing,housing['CHAS']):\n",
        "  strat_train_set = housing.loc[train_index]\n",
        "  strat_test_set = housing.loc[test_index]"
      ],
      "metadata": {
        "id": "skFxCcqQyljj"
      },
      "execution_count": 143,
      "outputs": []
    },
    {
      "cell_type": "code",
      "source": [
        "strat_train_set['CHAS'].value_counts()"
      ],
      "metadata": {
        "colab": {
          "base_uri": "https://localhost:8080/"
        },
        "id": "853Q66EszzoO",
        "outputId": "f7b460e7-dcb5-41bc-ef49-b33d08c24d61"
      },
      "execution_count": 144,
      "outputs": [
        {
          "output_type": "execute_result",
          "data": {
            "text/plain": [
              "0    376\n",
              "1     28\n",
              "Name: CHAS, dtype: int64"
            ]
          },
          "metadata": {},
          "execution_count": 144
        }
      ]
    },
    {
      "cell_type": "code",
      "source": [
        "strat_test_set['CHAS'].value_counts()"
      ],
      "metadata": {
        "colab": {
          "base_uri": "https://localhost:8080/"
        },
        "id": "sO3K0T9i0Qcd",
        "outputId": "ed008677-59b0-4a99-979c-f1ac4cb504ad"
      },
      "execution_count": 145,
      "outputs": [
        {
          "output_type": "execute_result",
          "data": {
            "text/plain": [
              "0    95\n",
              "1     7\n",
              "Name: CHAS, dtype: int64"
            ]
          },
          "metadata": {},
          "execution_count": 145
        }
      ]
    },
    {
      "cell_type": "markdown",
      "source": [
        "### Looking for Correlations"
      ],
      "metadata": {
        "id": "_4bXbRIQ2GXn"
      }
    },
    {
      "cell_type": "code",
      "source": [
        "corr_matrix = housing.corr()"
      ],
      "metadata": {
        "id": "1w8FC-Vi1_ch"
      },
      "execution_count": 146,
      "outputs": []
    },
    {
      "cell_type": "code",
      "source": [
        "corr_matrix['MEDV'].sort_values(ascending=False) #It showing if value is increase then graph is increase"
      ],
      "metadata": {
        "colab": {
          "base_uri": "https://localhost:8080/"
        },
        "id": "iZN29sHu5FUy",
        "outputId": "cd24e302-a6ce-42cc-8f6e-1260ff3830c5"
      },
      "execution_count": 147,
      "outputs": [
        {
          "output_type": "execute_result",
          "data": {
            "text/plain": [
              "MEDV       1.000000\n",
              "RM         0.695360\n",
              "ZN         0.360445\n",
              "B          0.333461\n",
              "DIS        0.249929\n",
              "CHAS       0.175260\n",
              "AGE       -0.376955\n",
              "RAD       -0.381626\n",
              "CRIM      -0.388305\n",
              "NOX       -0.427321\n",
              "TAX       -0.468536\n",
              "INDUS     -0.483725\n",
              "PTRATIO   -0.507787\n",
              "LSTAT     -0.737663\n",
              "Name: MEDV, dtype: float64"
            ]
          },
          "metadata": {},
          "execution_count": 147
        }
      ]
    },
    {
      "cell_type": "code",
      "source": [
        "from pandas.plotting import scatter_matrix\n",
        "attr = [\"MEDV\",\"RM\",\"ZN\",\"LSTAT\"]\n",
        "scatter_matrix(housing[attr],figsize=(12,9))"
      ],
      "metadata": {
        "colab": {
          "base_uri": "https://localhost:8080/",
          "height": 835
        },
        "id": "FS-53Vlf2EyM",
        "outputId": "e350391a-998d-4aba-b574-685ed8e116a6"
      },
      "execution_count": 148,
      "outputs": [
        {
          "output_type": "execute_result",
          "data": {
            "text/plain": [
              "array([[<AxesSubplot:xlabel='MEDV', ylabel='MEDV'>,\n",
              "        <AxesSubplot:xlabel='RM', ylabel='MEDV'>,\n",
              "        <AxesSubplot:xlabel='ZN', ylabel='MEDV'>,\n",
              "        <AxesSubplot:xlabel='LSTAT', ylabel='MEDV'>],\n",
              "       [<AxesSubplot:xlabel='MEDV', ylabel='RM'>,\n",
              "        <AxesSubplot:xlabel='RM', ylabel='RM'>,\n",
              "        <AxesSubplot:xlabel='ZN', ylabel='RM'>,\n",
              "        <AxesSubplot:xlabel='LSTAT', ylabel='RM'>],\n",
              "       [<AxesSubplot:xlabel='MEDV', ylabel='ZN'>,\n",
              "        <AxesSubplot:xlabel='RM', ylabel='ZN'>,\n",
              "        <AxesSubplot:xlabel='ZN', ylabel='ZN'>,\n",
              "        <AxesSubplot:xlabel='LSTAT', ylabel='ZN'>],\n",
              "       [<AxesSubplot:xlabel='MEDV', ylabel='LSTAT'>,\n",
              "        <AxesSubplot:xlabel='RM', ylabel='LSTAT'>,\n",
              "        <AxesSubplot:xlabel='ZN', ylabel='LSTAT'>,\n",
              "        <AxesSubplot:xlabel='LSTAT', ylabel='LSTAT'>]], dtype=object)"
            ]
          },
          "metadata": {},
          "execution_count": 148
        },
        {
          "output_type": "display_data",
          "data": {
            "text/plain": [
              "<Figure size 864x648 with 16 Axes>"
            ],
            "image/png": "[encoded data removed]"
          },
          "metadata": {
            "needs_background": "light"
          }
        }
      ]
    },
    {
      "cell_type": "code",
      "source": [
        "housing.plot(kind=\"scatter\",x=\"RM\",y=\"MEDV\",alpha=0.8)"
      ],
      "metadata": {
        "colab": {
          "base_uri": "https://localhost:8080/",
          "height": 296
        },
        "id": "gCDHNKEo7CV_",
        "outputId": "60023d9b-963a-4350-8354-de83c4a34e43"
      },
      "execution_count": 149,
      "outputs": [
        {
          "output_type": "execute_result",
          "data": {
            "text/plain": [
              "<AxesSubplot:xlabel='RM', ylabel='MEDV'>"
            ]
          },
          "metadata": {},
          "execution_count": 149
        },
        {
          "output_type": "display_data",
          "data": {
            "text/plain": [
              "<Figure size 432x288 with 1 Axes>"
            ],
            "image/png": "[encoded data removed]"
          },
          "metadata": {
            "needs_background": "light"
          }
        }
      ]
    },
    {
      "cell_type": "markdown",
      "source": [
        "### Trying out Attribute Combinations"
      ],
      "metadata": {
        "id": "GUoXJBPZNNj3"
      }
    },
    {
      "cell_type": "code",
      "source": [
        "housing[\"TAXRM\"] = housing[\"TAX\"]/housing['RM']"
      ],
      "metadata": {
        "id": "YAb4QCOQNToW"
      },
      "execution_count": 150,
      "outputs": []
    },
    {
      "cell_type": "code",
      "source": [
        "housing.head()"
      ],
      "metadata": {
        "colab": {
          "base_uri": "https://localhost:8080/",
          "height": 206
        },
        "id": "8W-pmm4nNg55",
        "outputId": "14b5363c-0642-4fff-f7ce-fc60c94ddc85"
      },
      "execution_count": 151,
      "outputs": [
        {
          "output_type": "execute_result",
          "data": {
            "text/plain": [
              "      CRIM    ZN  INDUS  CHAS    NOX     RM   AGE     DIS  RAD  TAX  PTRATIO  \\\n",
              "0  0.00632  18.0   2.31     0  0.538  6.575  65.2  4.0900    1  296     15.3   \n",
              "1  0.02731   0.0   7.07     0  0.469  6.421  78.9  4.9671    2  242     17.8   \n",
              "2  0.02729   0.0   7.07     0  0.469  7.185  61.1  4.9671    2  242     17.8   \n",
              "3  0.03237   0.0   2.18     0  0.458  6.998  45.8  6.0622    3  222     18.7   \n",
              "4  0.06905   0.0   2.18     0  0.458  7.147  54.2  6.0622    3  222     18.7   \n",
              "\n",
              "        B  LSTAT  MEDV      TAXRM  \n",
              "0  396.90   4.98  24.0  45.019011  \n",
              "1  396.90   9.14  21.6  37.688834  \n",
              "2  392.83   4.03  34.7  33.681280  \n",
              "3  394.63   2.94  33.4  31.723350  \n",
              "4  396.90   5.33  36.2  31.061984  "
            ],
            "text/html": [
              "\n",
              "  <div id=\"df-596068fa-91a6-4467-a9fc-9202b2ffca4a\">\n",
              "    <div class=\"colab-df-container\">\n",
              "      <div>\n",
              "<style scoped>\n",
              "    .dataframe tbody tr th:only-of-type {\n",
              "        vertical-align: middle;\n",
              "    }\n",
              "\n",
              "    .dataframe tbody tr th {\n",
              "        vertical-align: top;\n",
              "    }\n",
              "\n",
              "    .dataframe thead th {\n",
              "        text-align: right;\n",
              "    }\n",
              "</style>\n",
              "<table border=\"1\" class=\"dataframe\">\n",
              "  <thead>\n",
              "    <tr style=\"text-align: right;\">\n",
              "      <th></th>\n",
              "      <th>CRIM</th>\n",
              "      <th>ZN</th>\n",
              "      <th>INDUS</th>\n",
              "      <th>CHAS</th>\n",
              "      <th>NOX</th>\n",
              "      <th>RM</th>\n",
              "      <th>AGE</th>\n",
              "      <th>DIS</th>\n",
              "      <th>RAD</th>\n",
              "      <th>TAX</th>\n",
              "      <th>PTRATIO</th>\n",
              "      <th>B</th>\n",
              "      <th>LSTAT</th>\n",
              "      <th>MEDV</th>\n",
              "      <th>TAXRM</th>\n",
              "    </tr>\n",
              "  </thead>\n",
              "  <tbody>\n",
              "    <tr>\n",
              "      <th>0</th>\n",
              "      <td>0.00632</td>\n",
              "      <td>18.0</td>\n",
              "      <td>2.31</td>\n",
              "      <td>0</td>\n",
              "      <td>0.538</td>\n",
              "      <td>6.575</td>\n",
              "      <td>65.2</td>\n",
              "      <td>4.0900</td>\n",
              "      <td>1</td>\n",
              "      <td>296</td>\n",
              "      <td>15.3</td>\n",
              "      <td>396.90</td>\n",
              "      <td>4.98</td>\n",
              "      <td>24.0</td>\n",
              "      <td>45.019011</td>\n",
              "    </tr>\n",
              "    <tr>\n",
              "      <th>1</th>\n",
              "      <td>0.02731</td>\n",
              "      <td>0.0</td>\n",
              "      <td>7.07</td>\n",
              "      <td>0</td>\n",
              "      <td>0.469</td>\n",
              "      <td>6.421</td>\n",
              "      <td>78.9</td>\n",
              "      <td>4.9671</td>\n",
              "      <td>2</td>\n",
              "      <td>242</td>\n",
              "      <td>17.8</td>\n",
              "      <td>396.90</td>\n",
              "      <td>9.14</td>\n",
              "      <td>21.6</td>\n",
              "      <td>37.688834</td>\n",
              "    </tr>\n",
              "    <tr>\n",
              "      <th>2</th>\n",
              "      <td>0.02729</td>\n",
              "      <td>0.0</td>\n",
              "      <td>7.07</td>\n",
              "      <td>0</td>\n",
              "      <td>0.469</td>\n",
              "      <td>7.185</td>\n",
              "      <td>61.1</td>\n",
              "      <td>4.9671</td>\n",
              "      <td>2</td>\n",
              "      <td>242</td>\n",
              "      <td>17.8</td>\n",
              "      <td>392.83</td>\n",
              "      <td>4.03</td>\n",
              "      <td>34.7</td>\n",
              "      <td>33.681280</td>\n",
              "    </tr>\n",
              "    <tr>\n",
              "      <th>3</th>\n",
              "      <td>0.03237</td>\n",
              "      <td>0.0</td>\n",
              "      <td>2.18</td>\n",
              "      <td>0</td>\n",
              "      <td>0.458</td>\n",
              "      <td>6.998</td>\n",
              "      <td>45.8</td>\n",
              "      <td>6.0622</td>\n",
              "      <td>3</td>\n",
              "      <td>222</td>\n",
              "      <td>18.7</td>\n",
              "      <td>394.63</td>\n",
              "      <td>2.94</td>\n",
              "      <td>33.4</td>\n",
              "      <td>31.723350</td>\n",
              "    </tr>\n",
              "    <tr>\n",
              "      <th>4</th>\n",
              "      <td>0.06905</td>\n",
              "      <td>0.0</td>\n",
              "      <td>2.18</td>\n",
              "      <td>0</td>\n",
              "      <td>0.458</td>\n",
              "      <td>7.147</td>\n",
              "      <td>54.2</td>\n",
              "      <td>6.0622</td>\n",
              "      <td>3</td>\n",
              "      <td>222</td>\n",
              "      <td>18.7</td>\n",
              "      <td>396.90</td>\n",
              "      <td>5.33</td>\n",
              "      <td>36.2</td>\n",
              "      <td>31.061984</td>\n",
              "    </tr>\n",
              "  </tbody>\n",
              "</table>\n",
              "</div>\n",
              "      <button class=\"colab-df-convert\" onclick=\"convertToInteractive('df-596068fa-91a6-4467-a9fc-9202b2ffca4a')\"\n",
              "              title=\"Convert this dataframe to an interactive table.\"\n",
              "              style=\"display:none;\">\n",
              "        \n",
              "  <svg xmlns=\"http://www.w3.org/2000/svg\" height=\"24px\"viewBox=\"0 0 24 24\"\n",
              "       width=\"24px\">\n",
              "    <path d=\"M0 0h24v24H0V0z\" fill=\"none\"/>\n",
              "    <path d=\"M18.56 5.44l.94 2.06.94-2.06 2.06-.94-2.06-.94-.94-2.06-.94 2.06-2.06.94zm-11 1L8.5 8.5l.94-2.06 2.06-.94-2.06-.94L8.5 2.5l-.94 2.06-2.06.94zm10 10l.94 2.06.94-2.06 2.06-.94-2.06-.94-.94-2.06-.94 2.06-2.06.94z\"/><path d=\"M17.41 7.96l-1.37-1.37c-.4-.4-.92-.59-1.43-.59-.52 0-1.04.2-1.43.59L10.3 9.45l-7.72 7.72c-.78.78-.78 2.05 0 2.83L4 21.41c.39.39.9.59 1.41.59.51 0 1.02-.2 1.41-.59l7.78-7.78 2.81-2.81c.8-.78.8-2.07 0-2.86zM5.41 20L4 18.59l7.72-7.72 1.47 1.35L5.41 20z\"/>\n",
              "  </svg>\n",
              "      </button>\n",
              "      \n",
              "  <style>\n",
              "    .colab-df-container {\n",
              "      display:flex;\n",
              "      flex-wrap:wrap;\n",
              "      gap: 12px;\n",
              "    }\n",
              "\n",
              "    .colab-df-convert {\n",
              "      background-color: #E8F0FE;\n",
              "      border: none;\n",
              "      border-radius: 50%;\n",
              "      cursor: pointer;\n",
              "      display: none;\n",
              "      fill: #1967D2;\n",
              "      height: 32px;\n",
              "      padding: 0 0 0 0;\n",
              "      width: 32px;\n",
              "    }\n",
              "\n",
              "    .colab-df-convert:hover {\n",
              "      background-color: #E2EBFA;\n",
              "      box-shadow: 0px 1px 2px rgba(60, 64, 67, 0.3), 0px 1px 3px 1px rgba(60, 64, 67, 0.15);\n",
              "      fill: #174EA6;\n",
              "    }\n",
              "\n",
              "    [theme=dark] .colab-df-convert {\n",
              "      background-color: #3B4455;\n",
              "      fill: #D2E3FC;\n",
              "    }\n",
              "\n",
              "    [theme=dark] .colab-df-convert:hover {\n",
              "      background-color: #434B5C;\n",
              "      box-shadow: 0px 1px 3px 1px rgba(0, 0, 0, 0.15);\n",
              "      filter: drop-shadow(0px 1px 2px rgba(0, 0, 0, 0.3));\n",
              "      fill: #FFFFFF;\n",
              "    }\n",
              "  </style>\n",
              "\n",
              "      <script>\n",
              "        const buttonEl =\n",
              "          document.querySelector('#df-596068fa-91a6-4467-a9fc-9202b2ffca4a button.colab-df-convert');\n",
              "        buttonEl.style.display =\n",
              "          google.colab.kernel.accessAllowed ? 'block' : 'none';\n",
              "\n",
              "        async function convertToInteractive(key) {\n",
              "          const element = document.querySelector('#df-596068fa-91a6-4467-a9fc-9202b2ffca4a');\n",
              "          const dataTable =\n",
              "            await google.colab.kernel.invokeFunction('convertToInteractive',\n",
              "                                                     [key], {});\n",
              "          if (!dataTable) return;\n",
              "\n",
              "          const docLinkHtml = 'Like what you see? Visit the ' +\n",
              "            '<a target=\"_blank\" href=https://colab.research.google.com/notebooks/data_table.ipynb>data table notebook</a>'\n",
              "            + ' to learn more about interactive tables.';\n",
              "          element.innerHTML = '';\n",
              "          dataTable['output_type'] = 'display_data';\n",
              "          await google.colab.output.renderOutput(dataTable, element);\n",
              "          const docLink = document.createElement('div');\n",
              "          docLink.innerHTML = docLinkHtml;\n",
              "          element.appendChild(docLink);\n",
              "        }\n",
              "      </script>\n",
              "    </div>\n",
              "  </div>\n",
              "  "
            ]
          },
          "metadata": {},
          "execution_count": 151
        }
      ]
    },
    {
      "cell_type": "code",
      "source": [
        "corr_matrix = housing.corr()\n",
        "corr_matrix['MEDV'].sort_values(ascending=False)"
      ],
      "metadata": {
        "colab": {
          "base_uri": "https://localhost:8080/"
        },
        "id": "IhOKE7cMNskx",
        "outputId": "62522f4d-28e7-4ee2-beed-c6dfa97fcaa8"
      },
      "execution_count": 152,
      "outputs": [
        {
          "output_type": "execute_result",
          "data": {
            "text/plain": [
              "MEDV       1.000000\n",
              "RM         0.695360\n",
              "ZN         0.360445\n",
              "B          0.333461\n",
              "DIS        0.249929\n",
              "CHAS       0.175260\n",
              "AGE       -0.376955\n",
              "RAD       -0.381626\n",
              "CRIM      -0.388305\n",
              "NOX       -0.427321\n",
              "TAX       -0.468536\n",
              "INDUS     -0.483725\n",
              "PTRATIO   -0.507787\n",
              "TAXRM     -0.537650\n",
              "LSTAT     -0.737663\n",
              "Name: MEDV, dtype: float64"
            ]
          },
          "metadata": {},
          "execution_count": 152
        }
      ]
    },
    {
      "cell_type": "code",
      "source": [
        "housing.plot(kind=\"scatter\",x=\"TAXRM\",y=\"MEDV\",alpha=0.8)"
      ],
      "metadata": {
        "colab": {
          "base_uri": "https://localhost:8080/",
          "height": 296
        },
        "id": "2zADRMdwN8sZ",
        "outputId": "8cddc2f1-8502-4daf-d3d7-7df7ed0378eb"
      },
      "execution_count": 153,
      "outputs": [
        {
          "output_type": "execute_result",
          "data": {
            "text/plain": [
              "<AxesSubplot:xlabel='TAXRM', ylabel='MEDV'>"
            ]
          },
          "metadata": {},
          "execution_count": 153
        },
        {
          "output_type": "display_data",
          "data": {
            "text/plain": [
              "<Figure size 432x288 with 1 Axes>"
            ],
            "image/png": "[encoded data removed]"
          },
          "metadata": {
            "needs_background": "light"
          }
        }
      ]
    },
    {
      "cell_type": "code",
      "source": [
        "housing = strat_train_set.drop(\"MEDV\",axis=1)\n",
        "housing_labels = strat_train_set[\"MEDV\"].copy()"
      ],
      "metadata": {
        "id": "BfwX2A3HOUVC"
      },
      "execution_count": 154,
      "outputs": []
    },
    {
      "cell_type": "code",
      "source": [
        "from sklearn.impute import SimpleImputer\n",
        "imputer = SimpleImputer(strategy=\"median\")\n",
        "imputer.fit(housing)"
      ],
      "metadata": {
        "colab": {
          "base_uri": "https://localhost:8080/"
        },
        "id": "SjAdNOfZ8cr6",
        "outputId": "f0be8c13-ce7a-4df9-bc26-eeddb9832989"
      },
      "execution_count": 155,
      "outputs": [
        {
          "output_type": "execute_result",
          "data": {
            "text/plain": [
              "SimpleImputer(strategy='median')"
            ]
          },
          "metadata": {},
          "execution_count": 155
        }
      ]
    },
    {
      "cell_type": "code",
      "source": [
        "imputer.statistics_"
      ],
      "metadata": {
        "colab": {
          "base_uri": "https://localhost:8080/"
        },
        "id": "g3bJR0VW9hqE",
        "outputId": "9d9a9f1c-95ca-484d-b606-ed01e3e10c4b"
      },
      "execution_count": 156,
      "outputs": [
        {
          "output_type": "execute_result",
          "data": {
            "text/plain": [
              "array([2.86735e-01, 0.00000e+00, 9.90000e+00, 0.00000e+00, 5.38000e-01,\n",
              "       6.21000e+00, 7.82000e+01, 3.12220e+00, 5.00000e+00, 3.37000e+02,\n",
              "       1.90000e+01, 3.90955e+02, 1.15700e+01])"
            ]
          },
          "metadata": {},
          "execution_count": 156
        }
      ]
    },
    {
      "cell_type": "code",
      "source": [
        "X = imputer.transform(housing)"
      ],
      "metadata": {
        "id": "vZbg6U4l9sKw"
      },
      "execution_count": 157,
      "outputs": []
    },
    {
      "cell_type": "code",
      "source": [
        "housing_tr = pd.DataFrame(X,columns=housing.columns)"
      ],
      "metadata": {
        "id": "e1_UAjzM92GO"
      },
      "execution_count": 158,
      "outputs": []
    },
    {
      "cell_type": "markdown",
      "source": [
        "### Creating Pipeline\n"
      ],
      "metadata": {
        "id": "jaUrCQhQFwRR"
      }
    },
    {
      "cell_type": "code",
      "source": [
        "from sklearn.pipeline import Pipeline\n",
        "from sklearn.preprocessing import StandardScaler\n",
        "my_pipeline = Pipeline([\n",
        "    ('imputer',SimpleImputer(strategy=\"median\")),\n",
        "    ('std_scaler',StandardScaler()),\n",
        "])"
      ],
      "metadata": {
        "id": "UJp4-oj2FvvH"
      },
      "execution_count": 159,
      "outputs": []
    },
    {
      "cell_type": "code",
      "source": [
        "housing_num_tr = my_pipeline.fit_transform(housing)"
      ],
      "metadata": {
        "id": "xQD-oX2ZJ06r"
      },
      "execution_count": 160,
      "outputs": []
    },
    {
      "cell_type": "code",
      "source": [
        "housing_num_tr"
      ],
      "metadata": {
        "colab": {
          "base_uri": "https://localhost:8080/"
        },
        "id": "AjvRy2y9J_63",
        "outputId": "e9cf6c25-ce20-43be-b8ee-66565e7ef58b"
      },
      "execution_count": 161,
      "outputs": [
        {
          "output_type": "execute_result",
          "data": {
            "text/plain": [
              "array([[-0.43942006,  3.12628155, -1.12165014, ..., -0.97491834,\n",
              "         0.41164221, -0.86091034],\n",
              "       [-0.44352175,  3.12628155, -1.35893781, ..., -0.69277865,\n",
              "         0.39131918, -0.94116739],\n",
              "       [ 0.15682292, -0.4898311 ,  0.98336806, ...,  0.81196637,\n",
              "         0.44624347,  0.81480158],\n",
              "       ...,\n",
              "       [-0.43525657, -0.4898311 , -1.23083158, ..., -0.22254583,\n",
              "         0.41831233, -1.27603303],\n",
              "       [ 0.14210728, -0.4898311 ,  0.98336806, ...,  0.81196637,\n",
              "        -3.15239177,  0.73869575],\n",
              "       [-0.43974024, -0.4898311 ,  0.37049623, ..., -0.97491834,\n",
              "         0.41070422,  0.09940681]])"
            ]
          },
          "metadata": {},
          "execution_count": 161
        }
      ]
    },
    {
      "cell_type": "code",
      "source": [
        "housing_num_tr.shape"
      ],
      "metadata": {
        "colab": {
          "base_uri": "https://localhost:8080/"
        },
        "id": "gwZxxqlUKxtN",
        "outputId": "a15f8123-d8c4-4778-842b-91823f2fc509"
      },
      "execution_count": 162,
      "outputs": [
        {
          "output_type": "execute_result",
          "data": {
            "text/plain": [
              "(404, 13)"
            ]
          },
          "metadata": {},
          "execution_count": 162
        }
      ]
    },
    {
      "cell_type": "markdown",
      "source": [
        "### Selecting a desired Model"
      ],
      "metadata": {
        "id": "3-vevxK8Kh9h"
      }
    },
    {
      "cell_type": "code",
      "source": [
        "from sklearn.linear_model import LinearRegression\n",
        "from sklearn.tree import DecisionTreeRegressor\n",
        "from sklearn.ensemble import RandomForestRegressor\n",
        "# model = LinearRegression()\n",
        "# model = DecisionTreeRegressor()\n",
        "model = RandomForestRegressor()\n",
        "model.fit(housing_num_tr,housing_labels)"
      ],
      "metadata": {
        "colab": {
          "base_uri": "https://localhost:8080/"
        },
        "id": "nDGAT1zoKgbD",
        "outputId": "b5c0cb9b-0936-450e-cc28-7d18c2f62857"
      },
      "execution_count": 163,
      "outputs": [
        {
          "output_type": "execute_result",
          "data": {
            "text/plain": [
              "RandomForestRegressor()"
            ]
          },
          "metadata": {},
          "execution_count": 163
        }
      ]
    },
    {
      "cell_type": "code",
      "source": [
        "some_data = housing.iloc[:5]"
      ],
      "metadata": {
        "id": "6Q5JiDF3Pt91"
      },
      "execution_count": 164,
      "outputs": []
    },
    {
      "cell_type": "code",
      "source": [
        "some_labels = housing_labels.iloc[:5]"
      ],
      "metadata": {
        "id": "Nn1tAWd9xbOW"
      },
      "execution_count": 165,
      "outputs": []
    },
    {
      "cell_type": "code",
      "source": [
        "prepared_data = my_pipeline.transform(some_data)"
      ],
      "metadata": {
        "id": "g3XOGT8UxiDi"
      },
      "execution_count": 166,
      "outputs": []
    },
    {
      "cell_type": "code",
      "source": [
        "model.predict(prepared_data)"
      ],
      "metadata": {
        "colab": {
          "base_uri": "https://localhost:8080/"
        },
        "id": "ViT0wbIIzFU5",
        "outputId": "20626e9d-f178-48f7-8f0b-48f5f1ce1aeb"
      },
      "execution_count": 167,
      "outputs": [
        {
          "output_type": "execute_result",
          "data": {
            "text/plain": [
              "array([22.517, 25.084, 16.352, 23.311, 23.445])"
            ]
          },
          "metadata": {},
          "execution_count": 167
        }
      ]
    },
    {
      "cell_type": "code",
      "source": [
        "list(some_labels)"
      ],
      "metadata": {
        "colab": {
          "base_uri": "https://localhost:8080/"
        },
        "id": "OsCWm5h2zSxX",
        "outputId": "90908085-8325-4b31-9483-38cba7d5a6cf"
      },
      "execution_count": 168,
      "outputs": [
        {
          "output_type": "execute_result",
          "data": {
            "text/plain": [
              "[21.9, 24.5, 16.7, 23.1, 23.0]"
            ]
          },
          "metadata": {},
          "execution_count": 168
        }
      ]
    },
    {
      "cell_type": "code",
      "source": [
        "from sklearn.metrics import mean_squared_error\n",
        "import numpy as np\n",
        "housing_predictions = model.predict(housing_num_tr)\n",
        "mse = mean_squared_error(housing_labels, housing_predictions)\n",
        "rmse = np.sqrt(mse)\n"
      ],
      "metadata": {
        "id": "KKhmqBfXzb_x"
      },
      "execution_count": 169,
      "outputs": []
    },
    {
      "cell_type": "code",
      "source": [
        "rmse"
      ],
      "metadata": {
        "colab": {
          "base_uri": "https://localhost:8080/"
        },
        "id": "yfqz6ODB0Iw3",
        "outputId": "c7917c01-fa54-4d21-a57b-2aeca761093f"
      },
      "execution_count": 170,
      "outputs": [
        {
          "output_type": "execute_result",
          "data": {
            "text/plain": [
              "1.201700223940156"
            ]
          },
          "metadata": {},
          "execution_count": 170
        }
      ]
    },
    {
      "cell_type": "markdown",
      "source": [
        "### Cross Validation\n",
        "Using Better evaluation technique"
      ],
      "metadata": {
        "id": "hM1eGZvN1nk6"
      }
    },
    {
      "cell_type": "code",
      "source": [
        "from sklearn.model_selection import cross_val_score\n",
        "scores = cross_val_score(model,housing_num_tr,housing_labels, scoring=\"neg_mean_squared_error\", cv=10)\n",
        "rmse_scores = np.sqrt(-scores)"
      ],
      "metadata": {
        "id": "TDSEaCGz1m6I"
      },
      "execution_count": 171,
      "outputs": []
    },
    {
      "cell_type": "code",
      "source": [
        "rmse_scores"
      ],
      "metadata": {
        "colab": {
          "base_uri": "https://localhost:8080/"
        },
        "id": "ByU00IAG268A",
        "outputId": "553b53a6-99d9-4da0-d3f1-3b9f4755aac1"
      },
      "execution_count": 172,
      "outputs": [
        {
          "output_type": "execute_result",
          "data": {
            "text/plain": [
              "array([2.87123418, 2.81907725, 4.30409108, 2.54107933, 3.39504536,\n",
              "       2.65536978, 4.67303779, 3.35541472, 3.00098426, 3.2751064 ])"
            ]
          },
          "metadata": {},
          "execution_count": 172
        }
      ]
    },
    {
      "cell_type": "code",
      "source": [
        "def print_scores(scores):\n",
        "  print(\"Scores : \",scores)\n",
        "  print(\"Mean : \",scores.mean())\n",
        "  print(\"Standard Deviation : \",scores.std())"
      ],
      "metadata": {
        "id": "ZMFEXpNY7cF4"
      },
      "execution_count": 173,
      "outputs": []
    },
    {
      "cell_type": "code",
      "source": [
        "print_scores(rmse_scores)"
      ],
      "metadata": {
        "colab": {
          "base_uri": "https://localhost:8080/"
        },
        "id": "Va-KqoGq8Az0",
        "outputId": "6c818bfc-0e19-4b4e-85e3-3fbf690c8664"
      },
      "execution_count": 174,
      "outputs": [
        {
          "output_type": "stream",
          "name": "stdout",
          "text": [
            "Scores :  [2.87123418 2.81907725 4.30409108 2.54107933 3.39504536 2.65536978\n",
            " 4.67303779 3.35541472 3.00098426 3.2751064 ]\n",
            "Mean :  3.289044014927517\n",
            "Standard Deviation :  0.6634004347088654\n"
          ]
        }
      ]
    },
    {
      "cell_type": "markdown",
      "source": [
        "### Save Model"
      ],
      "metadata": {
        "id": "MNNLHHmTAOh4"
      }
    },
    {
      "cell_type": "code",
      "source": [
        "from joblib import dump, load\n",
        "dump(model, 'Dragon.joblib')"
      ],
      "metadata": {
        "colab": {
          "base_uri": "https://localhost:8080/"
        },
        "id": "mY4Rk5JW_Wy9",
        "outputId": "9a975236-84bd-43df-a23c-30edef990209"
      },
      "execution_count": 175,
      "outputs": [
        {
          "output_type": "execute_result",
          "data": {
            "text/plain": [
              "['Dragon.joblib']"
            ]
          },
          "metadata": {},
          "execution_count": 175
        }
      ]
    },
    {
      "cell_type": "markdown",
      "source": [
        "### Testing the model on test data"
      ],
      "metadata": {
        "id": "g_0b4EOKAR-I"
      }
    },
    {
      "cell_type": "code",
      "source": [
        "X_test = strat_test_set.drop(\"MEDV\",axis=1)\n",
        "Y_test = strat_test_set[\"MEDV\"].copy()\n",
        "X_test_prepared = my_pipeline.transform(X_test)\n",
        "final_predictions = model.predict(X_test_prepared)\n",
        "final_mse = mean_squared_error(Y_test, final_predictions)\n",
        "final_rmse = np.sqrt(final_mse)\n",
        "print(final_predictions,list(Y_test))"
      ],
      "metadata": {
        "colab": {
          "base_uri": "https://localhost:8080/"
        },
        "id": "8X9O19QqARIp",
        "outputId": "8759f0cf-adec-451a-d0bd-bf3ee58bf95c"
      },
      "execution_count": 178,
      "outputs": [
        {
          "output_type": "stream",
          "name": "stdout",
          "text": [
            "[24.922 11.466 25.453 21.548 17.733 15.164 19.649 14.757 31.616 40.604\n",
            " 19.776 11.854 25.164 28.04  19.496 11.277 31.136 14.612 23.538 19.221\n",
            " 19.957 17.959 17.627 22.095 18.309 31.02  16.616 33.109  8.99  33.236\n",
            " 24.432 21.326 22.95  11.183 21.027 10.893 41.754 24.377 23.413 42.27\n",
            " 23.765 28.923 20.448 20.845 18.687 33.761 44.542 20.23  20.028 21.526\n",
            " 21.438 14.529 21.097 14.919 25.28  33.418 40.76  29.04  19.416 20.503\n",
            " 47.068  9.892 19.119 25.668 14.771 33.304 19.289 18.205 19.085 33.572\n",
            " 25.191 23.086 21.288 22.593 34.21  13.228 15.862 19.99  20.907 20.789\n",
            " 22.563 21.12  14.292 22.947 20.897 21.334 14.057 21.025 21.933 23.293\n",
            " 18.538 26.932  7.103 26.249 18.117 29.375 19.742 31.589 14.588 26.654\n",
            " 21.162 19.867] [16.5, 10.2, 30.1, 23.0, 14.4, 15.6, 19.4, 14.1, 30.3, 35.2, 23.1, 13.8, 25.0, 27.9, 19.5, 12.3, 32.2, 13.5, 23.8, 21.7, 19.2, 19.5, 10.4, 23.2, 18.6, 28.5, 15.2, 32.0, 7.2, 34.6, 20.1, 20.6, 23.6, 13.1, 23.8, 12.7, 43.1, 24.7, 22.2, 44.0, 28.1, 31.0, 21.7, 23.4, 19.5, 33.1, 41.7, 18.7, 19.9, 20.6, 21.2, 13.6, 20.3, 17.8, 27.1, 31.5, 50.0, 29.1, 18.9, 20.4, 50.0, 7.2, 17.2, 36.2, 14.6, 33.2, 23.8, 19.9, 21.5, 37.3, 27.0, 22.0, 24.3, 19.8, 33.3, 7.0, 19.4, 20.9, 21.1, 20.4, 22.2, 11.9, 11.7, 21.6, 19.7, 23.0, 16.7, 21.7, 20.6, 23.3, 19.6, 28.0, 5.0, 24.4, 20.8, 24.8, 21.8, 23.6, 19.0, 25.0, 20.3, 21.5]\n"
          ]
        }
      ]
    },
    {
      "cell_type": "code",
      "source": [
        "final_rmse"
      ],
      "metadata": {
        "colab": {
          "base_uri": "https://localhost:8080/"
        },
        "id": "mKHJH95tBjwX",
        "outputId": "507856ad-397e-4f59-9d48-c5e394618e98"
      },
      "execution_count": 177,
      "outputs": [
        {
          "output_type": "execute_result",
          "data": {
            "text/plain": [
              "2.984198549090216"
            ]
          },
          "metadata": {},
          "execution_count": 177
        }
      ]
    },
    {
      "cell_type": "code",
      "source": [
        "prepared_data[0]"
      ],
      "metadata": {
        "colab": {
          "base_uri": "https://localhost:8080/"
        },
        "id": "xEyqHlooDdQz",
        "outputId": "719116c8-94aa-45c6-fa19-419f68001fb3"
      },
      "execution_count": 180,
      "outputs": [
        {
          "output_type": "execute_result",
          "data": {
            "text/plain": [
              "array([-0.43942006,  3.12628155, -1.12165014, -0.27288841, -1.42262747,\n",
              "       -0.24141041, -1.31238772,  2.61111401, -1.0016859 , -0.5778192 ,\n",
              "       -0.97491834,  0.41164221, -0.86091034])"
            ]
          },
          "metadata": {},
          "execution_count": 180
        }
      ]
    },
    {
      "cell_type": "markdown",
      "source": [
        "### Model Usages"
      ],
      "metadata": {
        "id": "Bi2HAnO0DEiu"
      }
    },
    {
      "cell_type": "code",
      "source": [
        "from joblib import dump, load\n",
        "model = load('/content/Dragon.joblib')"
      ],
      "metadata": {
        "id": "LfL-Lb6PDHFI"
      },
      "execution_count": 182,
      "outputs": []
    },
    {
      "cell_type": "code",
      "source": [
        "input = np.array([[-0.43942006,  3.12628155, -1.12165014, -0.27288841, -1.42262747,\n",
        "       -0.24141041, -1.31238772,  2.61111401, -1.0016859 , -0.5778192 ,\n",
        "       -0.97491834,  0.41164221, -0.86091034]])\n",
        "model.predict(input)"
      ],
      "metadata": {
        "colab": {
          "base_uri": "https://localhost:8080/"
        },
        "id": "14glqBcHDPT5",
        "outputId": "974f091e-8063-44ba-d30e-5e9e64920e09"
      },
      "execution_count": 183,
      "outputs": [
        {
          "output_type": "execute_result",
          "data": {
            "text/plain": [
              "array([22.517])"
            ]
          },
          "metadata": {},
          "execution_count": 183
        }
      ]
    }
  ]
}